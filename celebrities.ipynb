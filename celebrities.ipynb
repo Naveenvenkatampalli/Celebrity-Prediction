{
 "cells": [
  {
   "cell_type": "code",
   "execution_count": 1,
   "source": [
    "import os\r\n",
    "import pickle\r\n",
    "actors = os.listdir('data')\r\n",
    "filenames = []\r\n",
    "for actor in actors:\r\n",
    "    for file in os.listdir(os.path.join('data',actor)):\r\n",
    "        filenames.append(os.path.join('data',actor,file))\r\n",
    "pickle.dump(filenames,open('filenames.pkl','wb'))"
   ],
   "outputs": [],
   "metadata": {}
  },
  {
   "cell_type": "code",
   "execution_count": 2,
   "source": [
    "from tensorflow.keras.preprocessing import image\r\n",
    "from keras_vggface.utils import preprocess_input\r\n",
    "from keras_vggface.vggface import VGGFace\r\n",
    "import numpy as np\r\n",
    "import pickle\r\n",
    "from tqdm import tqdm"
   ],
   "outputs": [],
   "metadata": {}
  },
  {
   "cell_type": "code",
   "execution_count": 3,
   "source": [
    "filenames = pickle.load(open('filenames.pkl','rb'))\r\n",
    "\r\n",
    "model = VGGFace(model='resnet50',include_top=False,input_shape=(224,224,3),pooling='avg')\r\n",
    "\r\n",
    "def feature_extractor(img_path,model):\r\n",
    "    img = image.load_img(img_path,target_size=(224,224))\r\n",
    "    img_array = image.img_to_array(img)\r\n",
    "    expanded_img = np.expand_dims(img_array,axis=0)\r\n",
    "    preprocessed_img = preprocess_input(expanded_img)\r\n",
    "\r\n",
    "    result = model.predict(preprocessed_img).flatten()\r\n",
    "\r\n",
    "    return result\r\n",
    "\r\n",
    "features = []\r\n",
    "\r\n",
    "for file in tqdm(filenames):\r\n",
    "    features.append(feature_extractor(file,model))\r\n",
    "\r\n",
    "pickle.dump(features,open('embedding.pkl','wb'))"
   ],
   "outputs": [
    {
     "output_type": "stream",
     "name": "stdout",
     "text": [
      "Downloading data from https://github.com/rcmalli/keras-vggface/releases/download/v2.0/rcmalli_vggface_tf_notop_resnet50.h5\n",
      "94699520/94694792 [==============================] - 370s 4us/step\n"
     ]
    },
    {
     "output_type": "stream",
     "name": "stderr",
     "text": [
      "100%|██████████| 8664/8664 [37:12<00:00,  3.88it/s]\n"
     ]
    }
   ],
   "metadata": {}
  }
 ],
 "metadata": {
  "orig_nbformat": 4,
  "language_info": {
   "name": "python",
   "version": "3.9.6",
   "mimetype": "text/x-python",
   "codemirror_mode": {
    "name": "ipython",
    "version": 3
   },
   "pygments_lexer": "ipython3",
   "nbconvert_exporter": "python",
   "file_extension": ".py"
  },
  "kernelspec": {
   "name": "python3",
   "display_name": "Python 3.9.6 64-bit"
  },
  "interpreter": {
   "hash": "84839a00ad72f20e4819288807708c004cab120749c8bd08ab7331aed828b29d"
  }
 },
 "nbformat": 4,
 "nbformat_minor": 2
}